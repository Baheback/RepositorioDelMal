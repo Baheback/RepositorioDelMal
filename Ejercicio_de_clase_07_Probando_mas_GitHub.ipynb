{
  "nbformat": 4,
  "nbformat_minor": 0,
  "metadata": {
    "colab": {
      "provenance": [],
      "authorship_tag": "ABX9TyPKOMfcNGtewWmMH09m0LrL",
      "include_colab_link": true
    },
    "kernelspec": {
      "name": "python3",
      "display_name": "Python 3"
    },
    "language_info": {
      "name": "python"
    }
  },
  "cells": [
    {
      "cell_type": "markdown",
      "metadata": {
        "id": "view-in-github",
        "colab_type": "text"
      },
      "source": [
        "<a href=\"https://colab.research.google.com/github/Baheback/RepositorioDelMal/blob/BootCamp-IA/Ejercicio_de_clase_07_Probando_mas_GitHub.ipynb\" target=\"_parent\"><img src=\"https://colab.research.google.com/assets/colab-badge.svg\" alt=\"Open In Colab\"/></a>"
      ]
    },
    {
      "cell_type": "code",
      "execution_count": null,
      "metadata": {
        "id": "lffcRmCDUiJS"
      },
      "outputs": [],
      "source": [
        "print(\"Vamos a por el tercer commit desde Google Colab\")"
      ]
    }
  ]
}