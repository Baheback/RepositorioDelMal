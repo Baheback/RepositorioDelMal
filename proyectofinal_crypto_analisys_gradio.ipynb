{
  "nbformat": 4,
  "nbformat_minor": 0,
  "metadata": {
    "colab": {
      "provenance": [],
      "authorship_tag": "ABX9TyOM27Og18g6fyiog3k8d2OA",
      "include_colab_link": true
    },
    "kernelspec": {
      "name": "python3",
      "display_name": "Python 3"
    },
    "language_info": {
      "name": "python"
    }
  },
  "cells": [
    {
      "cell_type": "markdown",
      "metadata": {
        "id": "view-in-github",
        "colab_type": "text"
      },
      "source": [
        "<a href=\"https://colab.research.google.com/github/Baheback/RepositorioDelMal/blob/main/proyectofinal_crypto_analisys_gradio.ipynb\" target=\"_parent\"><img src=\"https://colab.research.google.com/assets/colab-badge.svg\" alt=\"Open In Colab\"/></a>"
      ]
    },
    {
      "cell_type": "code",
      "execution_count": null,
      "metadata": {
        "colab": {
          "base_uri": "https://localhost:8080/",
          "height": 1000
        },
        "id": "k2BEakqk1vTD",
        "outputId": "6d4b1357-ef43-4033-85da-cf00ae68dbc8"
      },
      "outputs": [
        {
          "output_type": "stream",
          "name": "stdout",
          "text": [
            "Requirement already satisfied: yfinance in /usr/local/lib/python3.11/dist-packages (0.2.55)\n",
            "Requirement already satisfied: pandas in /usr/local/lib/python3.11/dist-packages (2.2.2)\n",
            "Requirement already satisfied: numpy in /usr/local/lib/python3.11/dist-packages (2.0.2)\n",
            "Requirement already satisfied: matplotlib in /usr/local/lib/python3.11/dist-packages (3.10.0)\n",
            "Requirement already satisfied: ta in /usr/local/lib/python3.11/dist-packages (0.11.0)\n",
            "Requirement already satisfied: requests>=2.31 in /usr/local/lib/python3.11/dist-packages (from yfinance) (2.32.3)\n",
            "Requirement already satisfied: multitasking>=0.0.7 in /usr/local/lib/python3.11/dist-packages (from yfinance) (0.0.11)\n",
            "Requirement already satisfied: platformdirs>=2.0.0 in /usr/local/lib/python3.11/dist-packages (from yfinance) (4.3.7)\n",
            "Requirement already satisfied: pytz>=2022.5 in /usr/local/lib/python3.11/dist-packages (from yfinance) (2025.2)\n",
            "Requirement already satisfied: frozendict>=2.3.4 in /usr/local/lib/python3.11/dist-packages (from yfinance) (2.4.6)\n",
            "Requirement already satisfied: peewee>=3.16.2 in /usr/local/lib/python3.11/dist-packages (from yfinance) (3.17.9)\n",
            "Requirement already satisfied: beautifulsoup4>=4.11.1 in /usr/local/lib/python3.11/dist-packages (from yfinance) (4.13.3)\n",
            "Requirement already satisfied: python-dateutil>=2.8.2 in /usr/local/lib/python3.11/dist-packages (from pandas) (2.8.2)\n",
            "Requirement already satisfied: tzdata>=2022.7 in /usr/local/lib/python3.11/dist-packages (from pandas) (2025.2)\n",
            "Requirement already satisfied: contourpy>=1.0.1 in /usr/local/lib/python3.11/dist-packages (from matplotlib) (1.3.1)\n",
            "Requirement already satisfied: cycler>=0.10 in /usr/local/lib/python3.11/dist-packages (from matplotlib) (0.12.1)\n",
            "Requirement already satisfied: fonttools>=4.22.0 in /usr/local/lib/python3.11/dist-packages (from matplotlib) (4.57.0)\n",
            "Requirement already satisfied: kiwisolver>=1.3.1 in /usr/local/lib/python3.11/dist-packages (from matplotlib) (1.4.8)\n",
            "Requirement already satisfied: packaging>=20.0 in /usr/local/lib/python3.11/dist-packages (from matplotlib) (24.2)\n",
            "Requirement already satisfied: pillow>=8 in /usr/local/lib/python3.11/dist-packages (from matplotlib) (11.1.0)\n",
            "Requirement already satisfied: pyparsing>=2.3.1 in /usr/local/lib/python3.11/dist-packages (from matplotlib) (3.2.3)\n",
            "Requirement already satisfied: soupsieve>1.2 in /usr/local/lib/python3.11/dist-packages (from beautifulsoup4>=4.11.1->yfinance) (2.6)\n",
            "Requirement already satisfied: typing-extensions>=4.0.0 in /usr/local/lib/python3.11/dist-packages (from beautifulsoup4>=4.11.1->yfinance) (4.13.1)\n",
            "Requirement already satisfied: six>=1.5 in /usr/local/lib/python3.11/dist-packages (from python-dateutil>=2.8.2->pandas) (1.17.0)\n",
            "Requirement already satisfied: charset-normalizer<4,>=2 in /usr/local/lib/python3.11/dist-packages (from requests>=2.31->yfinance) (3.4.1)\n",
            "Requirement already satisfied: idna<4,>=2.5 in /usr/local/lib/python3.11/dist-packages (from requests>=2.31->yfinance) (3.10)\n",
            "Requirement already satisfied: urllib3<3,>=1.21.1 in /usr/local/lib/python3.11/dist-packages (from requests>=2.31->yfinance) (2.3.0)\n",
            "Requirement already satisfied: certifi>=2017.4.17 in /usr/local/lib/python3.11/dist-packages (from requests>=2.31->yfinance) (2025.1.31)\n",
            "Drive already mounted at /content/drive; to attempt to forcibly remount, call drive.mount(\"/content/drive\", force_remount=True).\n",
            "Colab notebook detected. To show errors in colab notebook, set debug=True in launch()\n",
            "* Running on public URL: https://0e3b5bb2c4602b13d4.gradio.live\n",
            "\n",
            "This share link expires in 1 week. For free permanent hosting and GPU upgrades, run `gradio deploy` from the terminal in the working directory to deploy to Hugging Face Spaces (https://huggingface.co/spaces)\n"
          ]
        },
        {
          "output_type": "display_data",
          "data": {
            "text/plain": [
              "<IPython.core.display.HTML object>"
            ],
            "text/html": [
              "<div><iframe src=\"https://0e3b5bb2c4602b13d4.gradio.live\" width=\"100%\" height=\"500\" allow=\"autoplay; camera; microphone; clipboard-read; clipboard-write;\" frameborder=\"0\" allowfullscreen></iframe></div>"
            ]
          },
          "metadata": {}
        },
        {
          "output_type": "execute_result",
          "data": {
            "text/plain": []
          },
          "metadata": {},
          "execution_count": 9
        }
      ],
      "source": [
        "!pip install yfinance pandas numpy matplotlib ta\n",
        "from google.colab import drive\n",
        "drive.mount('/content/drive')\n",
        "\n",
        "import yfinance as yf\n",
        "import pandas as pd\n",
        "import numpy as np\n",
        "import matplotlib.pyplot as plt\n",
        "import gradio as gr\n",
        "from ta.momentum import RSIIndicator\n",
        "from ta.trend import MACD\n",
        "\n",
        "# Lista de criptomonedas\n",
        "criptos = {\n",
        "    \"BTC-USD\": \"Bitcoin\",\n",
        "    \"ETH-USD\": \"Ethereum\",\n",
        "    \"BNB-USD\": \"BNB\",\n",
        "    \"XRP-USD\": \"Ripple\",\n",
        "    \"ADA-USD\": \"Cardano\",\n",
        "    \"DOGE-USD\": \"Dogecoin\",\n",
        "    \"SOL-USD\": \"Solana\",\n",
        "    \"DOT-USD\": \"Polkadot\",\n",
        "    \"MATIC-USD\": \"Polygon\",\n",
        "    \"LTC-USD\": \"Litecoin\"\n",
        "}\n",
        "\n",
        "# Umbrales de RSI\n",
        "rsi_buy = 30\n",
        "rsi_sell = 70\n",
        "\n",
        "def analizar_gradio(ticker):\n",
        "    try:\n",
        "        nombre = criptos.get(ticker, ticker)\n",
        "\n",
        "        # Descargar datos\n",
        "        data = yf.download(ticker, period=\"30d\", interval=\"1d\", auto_adjust=True, progress=False)\n",
        "        if data.empty:\n",
        "            return \"❌ No se pudieron obtener datos de la criptomoneda.\", None\n",
        "\n",
        "        # Asegurar que las columnas sean simples (no MultiIndex)\n",
        "        if isinstance(data.columns, pd.MultiIndex):\n",
        "            data.columns = data.columns.get_level_values(0)\n",
        "\n",
        "        # Verificar que 'Close' exista\n",
        "        if \"Close\" not in data.columns:\n",
        "            return \"❌ Error: los datos descargados no contienen la columna 'Close'.\", None\n",
        "\n",
        "        # Asegurarse de que sea una Serie 1D\n",
        "        close_prices = data[\"Close\"].astype(float).squeeze()\n",
        "\n",
        "        # Verificar cantidad de datos para análisis técnico\n",
        "        if len(close_prices) < 15:\n",
        "            return \"⚠️ No hay suficientes datos para análisis técnico.\", None\n",
        "\n",
        "        # Cálculo de indicadores\n",
        "        rsi = RSIIndicator(close=close_prices, window=14).rsi()\n",
        "        macd = MACD(close=close_prices)\n",
        "        data[\"RSI\"] = rsi\n",
        "        data[\"MACD\"] = macd.macd()\n",
        "        data[\"Signal\"] = macd.macd_signal()\n",
        "        data[\"Tendencia\"] = np.where(data[\"MACD\"] > data[\"Signal\"], \"Alcista\", \"Bajista\")\n",
        "\n",
        "        # Último valor\n",
        "        ultimo = data.iloc[-1]\n",
        "        precio_actual = float(ultimo[\"Close\"])\n",
        "        rsi_actual = float(ultimo[\"RSI\"])\n",
        "        tendencia_actual = ultimo[\"Tendencia\"]\n",
        "\n",
        "        # Recomendación\n",
        "        if rsi_actual < rsi_buy and tendencia_actual == \"Alcista\":\n",
        "            decision = \"Comprar\"\n",
        "        elif rsi_actual > rsi_sell and tendencia_actual == \"Bajista\":\n",
        "            decision = \"Vender\"\n",
        "        else:\n",
        "            decision = \"Mantener\"\n",
        "\n",
        "        # Crear gráfico\n",
        "        plt.figure(figsize=(10, 4))\n",
        "        plt.plot(data.index, data[\"Close\"], label=\"Precio de cierre\", color=\"blue\")\n",
        "        plt.title(f\"Histórico de precios - {nombre}\")\n",
        "        plt.xlabel(\"Fecha\")\n",
        "        plt.ylabel(\"Precio (USD)\")\n",
        "        plt.grid(True)\n",
        "        plt.xticks(rotation=45)\n",
        "        plt.legend()\n",
        "        plt.tight_layout()\n",
        "        grafico_path = \"grafico.png\"\n",
        "        plt.savefig(grafico_path)\n",
        "        plt.close()\n",
        "\n",
        "        # Resultado\n",
        "        resultado = (\n",
        "            f\"📈 Criptomoneda: {nombre} ({ticker})\\n\"\n",
        "            f\"📅 Fecha: {ultimo.name.strftime('%Y-%m-%d')}\\n\"\n",
        "            f\"💰 Precio actual: {precio_actual:.2f} USD\\n\"\n",
        "            f\"📉 RSI: {rsi_actual:.2f}\\n\"\n",
        "            f\"📊 Tendencia: {tendencia_actual}\\n\"\n",
        "            f\"📌 Recomendación: {decision}\\n\\n\"\n",
        "            \"⏳ Revisando RSI y MACD... Esperando 5 minutos hasta el próximo análisis...\\n\"\n",
        "        )\n",
        "\n",
        "        return resultado, grafico_path\n",
        "\n",
        "    except Exception as e:\n",
        "        return f\"❌ Error: {str(e)}\", None\n",
        "\n",
        "# Gradio\n",
        "opciones = list(criptos.keys())\n",
        "\n",
        "interfaz = gr.Interface(\n",
        "    fn=analizar_gradio,\n",
        "    inputs=gr.Dropdown(choices=opciones, label=\"Selecciona una criptomoneda\"),\n",
        "    outputs=[\n",
        "        gr.Textbox(label=\"Resultado del análisis\"),\n",
        "        gr.Image(type=\"filepath\", label=\"Gráfico de precios\")\n",
        "    ],\n",
        "    title=\"📊 Análisis Técnico de Criptomonedas\",\n",
        "    description=\"Usa RSI y MACD para obtener una recomendación de compra, venta o mantener.\",\n",
        ")\n",
        "\n",
        "interfaz.launch(share=True)\n"
      ]
    }
  ]
}